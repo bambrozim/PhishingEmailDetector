{
 "cells": [
  {
   "cell_type": "code",
   "execution_count": 1,
   "id": "35fc8eb8-27da-4343-afb1-7230b2311f7a",
   "metadata": {},
   "outputs": [
    {
     "name": "stdout",
     "output_type": "stream",
     "text": [
      "WARNING:tensorflow:From C:\\Users\\bambr\\AppData\\Local\\Programs\\Python\\Python311\\Lib\\site-packages\\keras\\src\\losses.py:2976: The name tf.losses.sparse_softmax_cross_entropy is deprecated. Please use tf.compat.v1.losses.sparse_softmax_cross_entropy instead.\n",
      "\n"
     ]
    },
    {
     "name": "stderr",
     "output_type": "stream",
     "text": [
      "[nltk_data] Downloading package wordnet to\n",
      "[nltk_data]     C:\\Users\\bambr\\AppData\\Roaming\\nltk_data...\n",
      "[nltk_data]   Package wordnet is already up-to-date!\n"
     ]
    }
   ],
   "source": [
    "import pandas as pd\n",
    "import pickle\n",
    "\n",
    "from model_utils import PreProcessEmail, GetTokenStatistics, NMFTransformer, DataFrameFeatureUnion"
   ]
  },
  {
   "cell_type": "code",
   "execution_count": 2,
   "id": "cfabdcee-f068-4a4d-af2a-8848b1f29f2f",
   "metadata": {},
   "outputs": [],
   "source": [
    "with open('phishing_detector.pkl', 'rb') as file:\n",
    "    loaded_model = pickle.load(file)"
   ]
  },
  {
   "cell_type": "code",
   "execution_count": 3,
   "id": "faf52edd-ca39-4885-ac8e-6e258cfbbd72",
   "metadata": {},
   "outputs": [],
   "source": [
    "data = pd.read_csv('Phishing_Email.csv')"
   ]
  },
  {
   "cell_type": "code",
   "execution_count": 4,
   "id": "2cbbd43e-5e0d-4f8d-a090-977787919e07",
   "metadata": {},
   "outputs": [],
   "source": [
    "to_predict = data[['Email Text']].sample(10)"
   ]
  },
  {
   "cell_type": "code",
   "execution_count": 5,
   "id": "d59cf392-4395-45ed-851c-d70a5668f947",
   "metadata": {},
   "outputs": [
    {
     "data": {
      "text/html": [
       "<div>\n",
       "<style scoped>\n",
       "    .dataframe tbody tr th:only-of-type {\n",
       "        vertical-align: middle;\n",
       "    }\n",
       "\n",
       "    .dataframe tbody tr th {\n",
       "        vertical-align: top;\n",
       "    }\n",
       "\n",
       "    .dataframe thead th {\n",
       "        text-align: right;\n",
       "    }\n",
       "</style>\n",
       "<table border=\"1\" class=\"dataframe\">\n",
       "  <thead>\n",
       "    <tr style=\"text-align: right;\">\n",
       "      <th></th>\n",
       "      <th>Email Text</th>\n",
       "    </tr>\n",
       "  </thead>\n",
       "  <tbody>\n",
       "    <tr>\n",
       "      <th>872</th>\n",
       "      <td>On Fri, Aug 02, 2002 at 09:28:57AM +0100, Hunt...</td>\n",
       "    </tr>\n",
       "    <tr>\n",
       "      <th>5281</th>\n",
       "      <td>\\n----- Original Message -----\\nFrom: \"John Ha...</td>\n",
       "    </tr>\n",
       "    <tr>\n",
       "      <th>10444</th>\n",
       "      <td>On Wednesday 31 Jul 2002 9:53 am, Ralf Ertzing...</td>\n",
       "    </tr>\n",
       "    <tr>\n",
       "      <th>14447</th>\n",
       "      <td>here is your new password dear applicant , you...</td>\n",
       "    </tr>\n",
       "    <tr>\n",
       "      <th>4775</th>\n",
       "      <td>I develop software and my pricing is that I ch...</td>\n",
       "    </tr>\n",
       "    <tr>\n",
       "      <th>187</th>\n",
       "      <td>emily ' s first pictures just so you can see w...</td>\n",
       "    </tr>\n",
       "    <tr>\n",
       "      <th>11103</th>\n",
       "      <td>e . h . tuttle xulio sousa wrote : ) e . h . t...</td>\n",
       "    </tr>\n",
       "    <tr>\n",
       "      <th>14287</th>\n",
       "      <td>fw : recent deal ( re : ecf ) fyi - - - - - or...</td>\n",
       "    </tr>\n",
       "    <tr>\n",
       "      <th>17886</th>\n",
       "      <td>Matthias Saou wrote:\\n&gt; OK, I'll add this.Cool...</td>\n",
       "    </tr>\n",
       "    <tr>\n",
       "      <th>3411</th>\n",
       "      <td>gash ado 0 be , allas , plnnacle system , nero...</td>\n",
       "    </tr>\n",
       "  </tbody>\n",
       "</table>\n",
       "</div>"
      ],
      "text/plain": [
       "                                              Email Text\n",
       "872    On Fri, Aug 02, 2002 at 09:28:57AM +0100, Hunt...\n",
       "5281   \\n----- Original Message -----\\nFrom: \"John Ha...\n",
       "10444  On Wednesday 31 Jul 2002 9:53 am, Ralf Ertzing...\n",
       "14447  here is your new password dear applicant , you...\n",
       "4775   I develop software and my pricing is that I ch...\n",
       "187    emily ' s first pictures just so you can see w...\n",
       "11103  e . h . tuttle xulio sousa wrote : ) e . h . t...\n",
       "14287  fw : recent deal ( re : ecf ) fyi - - - - - or...\n",
       "17886  Matthias Saou wrote:\\n> OK, I'll add this.Cool...\n",
       "3411   gash ado 0 be , allas , plnnacle system , nero..."
      ]
     },
     "execution_count": 5,
     "metadata": {},
     "output_type": "execute_result"
    }
   ],
   "source": [
    "to_predict"
   ]
  },
  {
   "cell_type": "code",
   "execution_count": 6,
   "id": "1d5cbcbc-24ce-4983-b3a8-641d19cabf1e",
   "metadata": {},
   "outputs": [],
   "source": [
    "preds = loaded_model.predict(to_predict)"
   ]
  },
  {
   "cell_type": "code",
   "execution_count": 7,
   "id": "ae7b4ff8-7b52-40af-b843-aa5ee6c805dc",
   "metadata": {},
   "outputs": [
    {
     "data": {
      "text/html": [
       "<div>\n",
       "<style scoped>\n",
       "    .dataframe tbody tr th:only-of-type {\n",
       "        vertical-align: middle;\n",
       "    }\n",
       "\n",
       "    .dataframe tbody tr th {\n",
       "        vertical-align: top;\n",
       "    }\n",
       "\n",
       "    .dataframe thead th {\n",
       "        text-align: right;\n",
       "    }\n",
       "</style>\n",
       "<table border=\"1\" class=\"dataframe\">\n",
       "  <thead>\n",
       "    <tr style=\"text-align: right;\">\n",
       "      <th></th>\n",
       "      <th>Email Text</th>\n",
       "      <th>is_phishing</th>\n",
       "    </tr>\n",
       "  </thead>\n",
       "  <tbody>\n",
       "    <tr>\n",
       "      <th>872</th>\n",
       "      <td>On Fri, Aug 02, 2002 at 09:28:57AM +0100, Hunt...</td>\n",
       "      <td>0</td>\n",
       "    </tr>\n",
       "    <tr>\n",
       "      <th>5281</th>\n",
       "      <td>\\n----- Original Message -----\\nFrom: \"John Ha...</td>\n",
       "      <td>0</td>\n",
       "    </tr>\n",
       "    <tr>\n",
       "      <th>10444</th>\n",
       "      <td>On Wednesday 31 Jul 2002 9:53 am, Ralf Ertzing...</td>\n",
       "      <td>0</td>\n",
       "    </tr>\n",
       "    <tr>\n",
       "      <th>14447</th>\n",
       "      <td>here is your new password dear applicant , you...</td>\n",
       "      <td>1</td>\n",
       "    </tr>\n",
       "    <tr>\n",
       "      <th>4775</th>\n",
       "      <td>I develop software and my pricing is that I ch...</td>\n",
       "      <td>0</td>\n",
       "    </tr>\n",
       "    <tr>\n",
       "      <th>187</th>\n",
       "      <td>emily ' s first pictures just so you can see w...</td>\n",
       "      <td>0</td>\n",
       "    </tr>\n",
       "    <tr>\n",
       "      <th>11103</th>\n",
       "      <td>e . h . tuttle xulio sousa wrote : ) e . h . t...</td>\n",
       "      <td>0</td>\n",
       "    </tr>\n",
       "    <tr>\n",
       "      <th>14287</th>\n",
       "      <td>fw : recent deal ( re : ecf ) fyi - - - - - or...</td>\n",
       "      <td>0</td>\n",
       "    </tr>\n",
       "    <tr>\n",
       "      <th>17886</th>\n",
       "      <td>Matthias Saou wrote:\\n&gt; OK, I'll add this.Cool...</td>\n",
       "      <td>0</td>\n",
       "    </tr>\n",
       "    <tr>\n",
       "      <th>3411</th>\n",
       "      <td>gash ado 0 be , allas , plnnacle system , nero...</td>\n",
       "      <td>1</td>\n",
       "    </tr>\n",
       "  </tbody>\n",
       "</table>\n",
       "</div>"
      ],
      "text/plain": [
       "                                              Email Text  is_phishing\n",
       "872    On Fri, Aug 02, 2002 at 09:28:57AM +0100, Hunt...            0\n",
       "5281   \\n----- Original Message -----\\nFrom: \"John Ha...            0\n",
       "10444  On Wednesday 31 Jul 2002 9:53 am, Ralf Ertzing...            0\n",
       "14447  here is your new password dear applicant , you...            1\n",
       "4775   I develop software and my pricing is that I ch...            0\n",
       "187    emily ' s first pictures just so you can see w...            0\n",
       "11103  e . h . tuttle xulio sousa wrote : ) e . h . t...            0\n",
       "14287  fw : recent deal ( re : ecf ) fyi - - - - - or...            0\n",
       "17886  Matthias Saou wrote:\\n> OK, I'll add this.Cool...            0\n",
       "3411   gash ado 0 be , allas , plnnacle system , nero...            1"
      ]
     },
     "execution_count": 7,
     "metadata": {},
     "output_type": "execute_result"
    }
   ],
   "source": [
    "predicted = to_predict.copy()\n",
    "predicted['is_phishing'] = preds\n",
    "\n",
    "predicted"
   ]
  },
  {
   "cell_type": "code",
   "execution_count": null,
   "id": "cf59ff27-f8b5-4bec-900f-6839b41c89e5",
   "metadata": {},
   "outputs": [],
   "source": []
  }
 ],
 "metadata": {
  "kernelspec": {
   "display_name": "Python 3 (ipykernel)",
   "language": "python",
   "name": "python3"
  },
  "language_info": {
   "codemirror_mode": {
    "name": "ipython",
    "version": 3
   },
   "file_extension": ".py",
   "mimetype": "text/x-python",
   "name": "python",
   "nbconvert_exporter": "python",
   "pygments_lexer": "ipython3",
   "version": "3.11.2"
  }
 },
 "nbformat": 4,
 "nbformat_minor": 5
}
